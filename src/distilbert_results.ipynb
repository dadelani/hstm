{
 "cells": [
  {
   "cell_type": "code",
   "execution_count": 3,
   "metadata": {},
   "outputs": [],
   "source": [
    "import os\n",
    "import numpy as np\n",
    "from matplotlib import pyplot as plt"
   ]
  },
  {
   "cell_type": "code",
   "execution_count": 4,
   "metadata": {},
   "outputs": [],
   "source": [
    "metrics = {'mse':0, 'auc':1, 'll':2, 'acc':3}"
   ]
  },
  {
   "cell_type": "code",
   "execution_count": 5,
   "metadata": {},
   "outputs": [],
   "source": [
    "datasets = ['amazon', 'peerread', 'yelp', 'amazon_binary', 'samesex', 'immigration', 'deathpenalty', 'guncontrol']\n",
    "out = '../out/'\n",
    "num_folds = 5\n",
    "exp_results = {data:(np.zeros((num_folds,len(metrics)))) for data in datasets}\n",
    "\n",
    "for data in datasets:\n",
    "    for e_idx in range(num_folds):\n",
    "        resfile= out + data + '/' + 'bert.result.split'+str(e_idx)\n",
    "        results = np.load(resfile + '.npy')\n",
    "        exp_results[data][e_idx]=results"
   ]
  },
  {
   "cell_type": "code",
   "execution_count": 6,
   "metadata": {},
   "outputs": [
    {
     "name": "stdout",
     "output_type": "stream",
     "text": [
      "************************************************************\n",
      "Data: amazon\n",
      "MSE: 0.840019966449062 AUC: 0.0 Log Loss: 0.0 Accuracy: 0.0\n",
      "************************************************************\n",
      "Data: peerread\n",
      "MSE: 0.0 AUC: 0.7834071504543612 Log Loss: 0.8645180614692254 Accuracy: 0.7711830371556749\n",
      "************************************************************\n",
      "Data: yelp\n",
      "MSE: 0.0 AUC: 0.9395041096915315 Log Loss: 0.6185047147259519 Accuracy: 0.8608589105173365\n",
      "************************************************************\n",
      "Data: amazon_binary\n",
      "MSE: 0.0 AUC: 0.8992026231883161 Log Loss: 0.35729242095703717 Accuracy: 0.9202113374157019\n",
      "************************************************************\n",
      "Data: samesex\n",
      "MSE: 0.0 AUC: 0.7746252196082237 Log Loss: 0.8034131664206512 Accuracy: 0.7637142092733733\n",
      "************************************************************\n",
      "Data: immigration\n",
      "MSE: 0.0 AUC: 0.7325451811459354 Log Loss: 0.9730091642836497 Accuracy: 0.6848482333950123\n",
      "************************************************************\n",
      "Data: deathpenalty\n",
      "MSE: 0.0 AUC: 0.7738900522139309 Log Loss: 0.9618111519285921 Accuracy: 0.6957998942980153\n",
      "************************************************************\n",
      "Data: guncontrol\n",
      "MSE: 0.0 AUC: 0.6944482881084214 Log Loss: 0.942791660375984 Accuracy: 0.6584467034377915\n"
     ]
    }
   ],
   "source": [
    "for data in datasets:\n",
    "    results = exp_results[data].mean(axis=0)\n",
    "    print('*'*60)\n",
    "    print(\"Data:\", data)\n",
    "    print(\"MSE:\", results[metrics['mse']], \n",
    "          \"AUC:\", results[metrics['auc']], \n",
    "          'Log Loss:', results[metrics['ll']],\n",
    "         'Accuracy:', results[metrics['acc']])"
   ]
  },
  {
   "cell_type": "code",
   "execution_count": 23,
   "metadata": {},
   "outputs": [
    {
     "name": "stdout",
     "output_type": "stream",
     "text": [
      "********************\n",
      "Model: regression\n",
      "MSE: 0.842719143940325 NPMI: 0.08802336257920561 Perplexity: 1.069391942024231 Shuffle loss: 0.8718215882277832\n",
      "********************\n",
      "Model: adjusted_hstm\n",
      "MSE: 0.8441661794251383 NPMI: 0.2194682755291649 Perplexity: 13034.4458984375 Shuffle loss: 0.8565664652441323\n",
      "********************\n",
      "Model: hstm\n",
      "MSE: 0.856097225456289 NPMI: 0.22373644734323245 Perplexity: 26427.9658203125 Shuffle loss: 0.878407582125076\n",
      "********************\n",
      "Model: stm\n",
      "MSE: 0.9075255576335481 NPMI: 0.22209302594656663 Perplexity: 16627.2216796875 Shuffle loss: 0.0\n"
     ]
    }
   ],
   "source": [
    "data='semantic_scholar'\n",
    "for model in models + ['stm']:\n",
    "    c_nmpi, c_mse, c_perp, c_shuf = get_best_results_regression(exp_results, data, model)\n",
    "    results = exp_results[data][model][c_mse].mean(axis=0)\n",
    "    print(\"*\"*20)\n",
    "    print(\"Model:\", model)\n",
    "    print(\"MSE:\", results[metrics['mse']], \n",
    "          \"NPMI:\", results[metrics['npmi']], \n",
    "          'Perplexity:', results[metrics['perp']],\n",
    "         'Shuffle loss:', results[metrics['shuffle']])"
   ]
  },
  {
   "cell_type": "code",
   "execution_count": 21,
   "metadata": {},
   "outputs": [
    {
     "name": "stdout",
     "output_type": "stream",
     "text": [
      "********************\n",
      "Model: regression\n",
      "Accuracy: 0.806287170773152 AUC: 0.8374643129753979 Log loss: 0.4105547804418855 NPMI: 0.08040208822064276 Perplexity: 1.064802598953247 Shuffle loss: 0.44216430214943714\n",
      "********************\n",
      "Model: adjusted_hstm\n",
      "Accuracy: 0.8115548003398472 AUC: 0.8508820657229574 Log loss: 0.3988711813168827 NPMI: 0.18236127725837784 Perplexity: 1668.764306640625 Shuffle loss: 0.4369654746416235\n",
      "********************\n",
      "Model: hstm\n",
      "Accuracy: 0.8083262531860662 AUC: 0.8502379923197507 Log loss: 0.4060067901010376 NPMI: 0.18430088389050353 Perplexity: 1540.1703369140625 Shuffle loss: 0.47077346908180207\n",
      "********************\n",
      "Model: stm\n",
      "Accuracy: 0.772302463891249 AUC: 0.7946228688378122 Log loss: 0.4887632010322611 NPMI: 0.17903039171601923 Perplexity: 1876.7062744140626 Shuffle loss: 0.0\n"
     ]
    }
   ],
   "source": [
    "data='peerread'\n",
    "for model in models + ['stm']:\n",
    "    c_nmpi, c_mse, c_perp, c_shuf = get_best_results_classification(exp_results, data, model)\n",
    "    results = exp_results[data][model][c_mse].mean(axis=0)\n",
    "    print(\"*\"*20)\n",
    "    print(\"Model:\", model)\n",
    "    print(\"Accuracy:\", results[metrics['acc']],\n",
    "          \"AUC:\", results[metrics['auc']],\n",
    "          \"Log loss:\", results[metrics['ll']],\n",
    "          \"NPMI:\", results[metrics['npmi']], \n",
    "          'Perplexity:', results[metrics['perp']],\n",
    "         'Shuffle loss:', results[metrics['shuffle']])"
   ]
  },
  {
   "cell_type": "code",
   "execution_count": 22,
   "metadata": {},
   "outputs": [
    {
     "name": "stdout",
     "output_type": "stream",
     "text": [
      "********************\n",
      "Model: regression\n",
      "Accuracy: 0.8885327991987981 AUC: 0.9541655494520274 Log loss: 0.2782380657428568 NPMI: 0.05703744862791323 Perplexity: 1.0594762325286866 Shuffle loss: 0.3738556071740504\n",
      "********************\n",
      "Model: adjusted_hstm\n",
      "Accuracy: 0.9089634451677517 AUC: 0.966676404317566 Log loss: nan NPMI: 0.16815321536481825 Perplexity: 200.6930908203125 Shuffle loss: 0.3828965427787798\n",
      "********************\n",
      "Model: hstm\n",
      "Accuracy: 0.9080620931397096 AUC: 0.9647144466001647 Log loss: 0.26879522844143244 NPMI: 0.1952095178689265 Perplexity: 182.2464141845703 Shuffle loss: 0.4694512868754023\n",
      "********************\n",
      "Model: stm\n",
      "Accuracy: 0.8126189283925889 AUC: 0.8857453251100165 Log loss: 0.5033352986976138 NPMI: 0.17158606143018001 Perplexity: 175.9210174560547 Shuffle loss: 0.0\n"
     ]
    }
   ],
   "source": [
    "data='yelp'\n",
    "for model in models + ['stm']:\n",
    "    c_nmpi, c_mse, c_perp, c_shuf = get_best_results_classification(exp_results, data, model)\n",
    "    results = exp_results[data][model][c_mse].mean(axis=0)\n",
    "    print(\"*\"*20)\n",
    "    print(\"Model:\", model)\n",
    "    print(\"Accuracy:\", results[metrics['acc']],\n",
    "          \"AUC:\", results[metrics['auc']],\n",
    "          \"Log loss:\", results[metrics['ll']],\n",
    "          \"NPMI:\", results[metrics['npmi']], \n",
    "          'Perplexity:', results[metrics['perp']],\n",
    "         'Shuffle loss:', results[metrics['shuffle']])"
   ]
  },
  {
   "cell_type": "code",
   "execution_count": null,
   "metadata": {},
   "outputs": [],
   "source": []
  }
 ],
 "metadata": {
  "kernelspec": {
   "display_name": "Python 3",
   "language": "python",
   "name": "python3"
  },
  "language_info": {
   "codemirror_mode": {
    "name": "ipython",
    "version": 3
   },
   "file_extension": ".py",
   "mimetype": "text/x-python",
   "name": "python",
   "nbconvert_exporter": "python",
   "pygments_lexer": "ipython3",
   "version": "3.6.10"
  }
 },
 "nbformat": 4,
 "nbformat_minor": 4
}
