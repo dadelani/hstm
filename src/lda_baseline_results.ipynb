{
 "cells": [
  {
   "cell_type": "code",
   "execution_count": 1,
   "metadata": {},
   "outputs": [],
   "source": [
    "import os\n",
    "import numpy as np\n",
    "from matplotlib import pyplot as plt"
   ]
  },
  {
   "cell_type": "code",
   "execution_count": 2,
   "metadata": {},
   "outputs": [],
   "source": [
    "metrics = {'mse':0, 'auc':1, 'll':2, 'acc':3, 'perp':4, 'npmi':5}"
   ]
  },
  {
   "cell_type": "code",
   "execution_count": 3,
   "metadata": {},
   "outputs": [],
   "source": [
    "datasets = ['amazon', 'peerread', 'yelp', 'amazon_binary', 'semantic_scholar']\n",
    "frm_topics = ['immigration', 'deathpenalty', 'guncontrol', 'samesex']\n",
    "out = '../out/'\n",
    "num_folds = 5\n",
    "# models = ['slda', 'pred_lda', 'pred_lda_bow']\n",
    "models = ['slda']\n",
    "exp_results = {model:{data:(np.zeros((num_folds,len(metrics)))) for data in (datasets + frm_topics)} for model in models}\n",
    "\n",
    "for data in datasets:\n",
    "    for model in models:\n",
    "        for e_idx in range(num_folds):\n",
    "            resfile= out + data + '/' + model + '.result.split'+str(e_idx)\n",
    "            results = np.load(resfile + '.npy')\n",
    "            exp_results[model][data][e_idx]=results\n",
    "\n",
    "\n",
    "for topic in frm_topics:\n",
    "    for model in models:\n",
    "        for e_idx in range(num_folds):\n",
    "            resfile= out + 'framing_corpus_' + topic + '/' + model + '.result.split'+str(e_idx)\n",
    "            results = np.load(resfile + '.npy')\n",
    "            exp_results[model][topic][e_idx]=results"
   ]
  },
  {
   "cell_type": "code",
   "execution_count": 4,
   "metadata": {},
   "outputs": [
    {
     "name": "stdout",
     "output_type": "stream",
     "text": [
      "\n",
      "Model: slda\n",
      "************************************************************\n",
      "Data: amazon\n",
      "MSE: 0.8808659213385261 AUC: 0.0 Log Loss: 0.0 Accuracy: 0.0 Perplexity: 1571.520166015625 NPMI: 0.023466427404627448\n",
      "************************************************************\n",
      "Data: peerread\n",
      "MSE: 0.0 AUC: 0.7615278682559391 Log Loss: 0.4995432240016499 Accuracy: 0.7598980458793543 Perplexity: 2004.550341796875 NPMI: 0.031189434995909177\n",
      "************************************************************\n",
      "Data: yelp\n",
      "MSE: 0.0 AUC: 0.8734102776057788 Log Loss: 0.49449326132623883 Accuracy: 0.7780561122244489 Perplexity: 436.08591918945314 NPMI: 0.01975031254389894\n",
      "************************************************************\n",
      "Data: amazon_binary\n",
      "MSE: 0.0 AUC: 0.6891004748314814 Log Loss: 0.3229496537761537 Accuracy: 0.8955832389580974 Perplexity: 56.61084518432617 NPMI: 0.010755184248067049\n",
      "************************************************************\n",
      "Data: semantic_scholar\n",
      "MSE: 0.9295445174789204 AUC: 0.0 Log Loss: 0.0 Accuracy: 0.0 Perplexity: 70406.07578125 NPMI: 0.04615844672175864\n",
      "************************************************************\n",
      "Data: immigration\n",
      "MSE: 0.0 AUC: 0.724038900326796 Log Loss: 0.6067219785445339 Accuracy: 0.6668131868131868 Perplexity: 484.0765686035156 NPMI: 2.2657087643798732\n",
      "************************************************************\n",
      "Data: deathpenalty\n",
      "MSE: 0.0 AUC: 0.7527170878370668 Log Loss: 0.6016210581486423 Accuracy: 0.6944444444444444 Perplexity: 696.1766540527344 NPMI: 1.859922511963651\n",
      "************************************************************\n",
      "Data: guncontrol\n",
      "MSE: 0.0 AUC: 0.6657268836283075 Log Loss: 0.5896436910313296 Accuracy: 0.6975903614457831 Perplexity: 380.7827972412109 NPMI: 2.196184763536084\n",
      "************************************************************\n",
      "Data: samesex\n",
      "MSE: 0.0 AUC: 0.7469673023478359 Log Loss: 0.5074626494890223 Accuracy: 0.754706684856753 Perplexity: 3148.1558349609377 NPMI: 1.927838193358809\n"
     ]
    }
   ],
   "source": [
    "for model in models:\n",
    "    print(\"\\nModel:\", model)\n",
    "    for data in datasets + frm_topics:\n",
    "        results = exp_results[model][data].mean(axis=0)\n",
    "        print('*'*60)\n",
    "        print(\"Data:\", data)\n",
    "        print(\"MSE:\", results[metrics['mse']], \n",
    "              \"AUC:\", results[metrics['auc']], \n",
    "              'Log Loss:', results[metrics['ll']],\n",
    "             'Accuracy:', results[metrics['acc']],\n",
    "             'Perplexity:', results[metrics['perp']],\n",
    "             'NPMI:', results[metrics['npmi']])"
   ]
  },
  {
   "cell_type": "code",
   "execution_count": null,
   "metadata": {},
   "outputs": [],
   "source": []
  }
 ],
 "metadata": {
  "kernelspec": {
   "display_name": "Python 3",
   "language": "python",
   "name": "python3"
  },
  "language_info": {
   "codemirror_mode": {
    "name": "ipython",
    "version": 3
   },
   "file_extension": ".py",
   "mimetype": "text/x-python",
   "name": "python",
   "nbconvert_exporter": "python",
   "pygments_lexer": "ipython3",
   "version": "3.6.10"
  }
 },
 "nbformat": 4,
 "nbformat_minor": 4
}
